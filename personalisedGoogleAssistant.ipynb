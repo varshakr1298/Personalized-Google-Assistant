{
 "cells": [
  {
   "cell_type": "code",
   "execution_count": 53,
   "metadata": {},
   "outputs": [
    {
     "name": "stdout",
     "output_type": "stream",
     "text": [
      "say\n",
      "You said: hello Google\n"
     ]
    }
   ],
   "source": [
    "import speech_recognition as sr\n",
    "import pyttsx3 as p\n",
    "import os\n",
    "import webbrowser as wb\n",
    "import random\n",
    "import datetime\n",
    "import time\n",
    "import emoji\n",
    "import pandas as pd\n",
    "r = sr.Recognizer()\n",
    "engine = p.init()\n",
    "engine.setProperty('rate', 250)\n",
    "def saySomething():\n",
    "    p.speak('say something')\n",
    "    with sr.Microphone() as mp:\n",
    "        print('say')\n",
    "        audio = r.listen(mp)\n",
    "    print(\"You said:\",r.recognize_google(audio))\n",
    "    return audio\n",
    "audio=saySomething()"
   ]
  },
  {
   "cell_type": "code",
   "execution_count": 54,
   "metadata": {},
   "outputs": [],
   "source": [
    "def getDay():\n",
    "    now = datetime.datetime.now()\n",
    "    return now.strftime(\"%A\")"
   ]
  },
  {
   "cell_type": "code",
   "execution_count": 55,
   "metadata": {},
   "outputs": [],
   "source": [
    "def getTime():\n",
    "    t = time.localtime()\n",
    "    current_time = time.strftime(\"%H:%M:%S\", t)\n",
    "    p.speak(\"The current time is \"+current_time)"
   ]
  },
  {
   "cell_type": "code",
   "execution_count": 102,
   "metadata": {},
   "outputs": [],
   "source": [
    "def getEmoji(ch1):\n",
    "    data = pd.read_csv(\"train_emoji.csv\",header=None)\n",
    "    X_train = data[0]\n",
    "    Y_train = data[1]\n",
    "    emoji_dict = {\n",
    "        0:\":beating_heart:\",\n",
    "        1:\":baseball:\",\n",
    "        2:\":beaming_face_with_smiling_eyes:\",\n",
    "        3:\":disappointed_face:\",\n",
    "        4:\":fork_and_knife:\"    \n",
    "    }\n",
    "    for ix in range(132):\n",
    "        X_train[ix] = X_train[ix].lower().split()\n",
    "        if ch1 in X_train[ix]:\n",
    "            pos=ix\n",
    "    if ch1 in X_train[pos]:\n",
    "        p.speak(emoji.emojize(emoji_dict[Y_train[pos]]))\n",
    "        print(emoji.emojize(emoji_dict[Y_train[pos]]))\n",
    "    else:\n",
    "        print(\"Sorry, cannot emojize your situation\")"
   ]
  },
  {
   "cell_type": "code",
   "execution_count": 109,
   "metadata": {},
   "outputs": [
    {
     "name": "stderr",
     "output_type": "stream",
     "text": [
      "<ipython-input-102-740bf8448c25>:13: SettingWithCopyWarning: \n",
      "A value is trying to be set on a copy of a slice from a DataFrame\n",
      "\n",
      "See the caveats in the documentation: https://pandas.pydata.org/pandas-docs/stable/user_guide/indexing.html#returning-a-view-versus-a-copy\n",
      "  X_train[ix] = X_train[ix].lower().split()\n"
     ]
    },
    {
     "name": "stdout",
     "output_type": "stream",
     "text": [
      "🍴\n"
     ]
    }
   ],
   "source": [
    "getEmoji(\"hungry\")"
   ]
  },
  {
   "cell_type": "code",
   "execution_count": null,
   "metadata": {
    "scrolled": true
   },
   "outputs": [],
   "source": [
    "output=r.recognize_google(audio)\n",
    "output=output.lower()\n",
    "op=output.split()\n",
    "ans1=[\"I am good\",\"I am socially tip top!\",\"I am sucked of being around digital world!\",\"I am as happy as a cupcake\"]\n",
    "ans2=[\"Heard about the new restaurant called Karma?, There’s no menu: You get what you deserve.\",\"Why don’t scientists trust atoms? Because they make up everything.\"]\n",
    "if ((('hello' in op[0]) or ('hey' in op[0]) or ('ok' in op[0])) and ('google' in op[1])):\n",
    "    p.speak(\"Hello! How may I help you?!\")\n",
    "    choice = saySomething()\n",
    "    op = r.recognize_google(choice)\n",
    "    ch = op.split()\n",
    "    if ('how' in ch[0]) and ('are' in ch[1]) and ('you' in ch[2]):\n",
    "        p.speak(random.choice(ans1))\n",
    "    if 'joke' in ch:\n",
    "        p.speak(random.choice(ans2))\n",
    "    if 'favourite' in ch and 'song' in ch:\n",
    "        wb.get('chrome').open(\"https://www.youtube.com/watch?v=TuJXwmHmwhQ\")\n",
    "    if 'time' in ch and 'table' in ch:\n",
    "        today_day=getDay()\n",
    "        file=open(\"timetable.txt\",\"r\")\n",
    "        for lines in file:\n",
    "            lines=lines.split(\":\")\n",
    "            if(today_day in lines):\n",
    "                p.speak(lines[1])\n",
    "    elif 'time' in ch:\n",
    "        getTime()\n",
    "    if 'emoji' in ch or 'emojize' in ch:\n",
    "        p.speak(\"Describe your situation!\")\n",
    "        choice = saySomething()\n",
    "        op = r.recognize_google(choice)\n",
    "        ch1 = op.split()\n",
    "        str=\"\"\n",
    "        getEmoji(str.join(ch1))\n",
    "else:\n",
    "    p.speak(\"Sorry! Couldn't connect, Try again\")"
   ]
  },
  {
   "cell_type": "code",
   "execution_count": 107,
   "metadata": {},
   "outputs": [
    {
     "data": {
      "text/plain": [
       "list"
      ]
     },
     "execution_count": 107,
     "metadata": {},
     "output_type": "execute_result"
    }
   ],
   "source": [
    "type(ch1)"
   ]
  },
  {
   "cell_type": "code",
   "execution_count": 16,
   "metadata": {},
   "outputs": [
    {
     "name": "stdout",
     "output_type": "stream",
     "text": [
      "[28.6519, 77.2315]\n",
      "Vakilpura, Old Delhi, Delhi, Kotwali Tehsil, Central Delhi, Delhi, 110006, India\n"
     ]
    }
   ],
   "source": [
    "import geocoder\n",
    "from geopy.geocoders import Nominatim\n",
    "g = geocoder.ip('me')\n",
    "print(g.latlng)\n",
    "latitude=str(g.latlng[0])\n",
    "longitude=str(g.latlng[1])\n",
    "geolocator = Nominatim(user_agent=\"geoapiExercises\")\n",
    "location = geolocator.reverse(latitude+\",\"+longitude)\n",
    "print(location)"
   ]
  },
  {
   "cell_type": "code",
   "execution_count": 12,
   "metadata": {},
   "outputs": [
    {
     "name": "stdout",
     "output_type": "stream",
     "text": [
      "Weather report: pitampura\n",
      "\n",
      "                Widespread dust\n",
      "  \u001b[38;5;240;1m     .--.    \u001b[0m \u001b[38;5;196m+39\u001b[0m(\u001b[38;5;196m38\u001b[0m) °C\u001b[0m     \n",
      "  \u001b[38;5;240;1m  .-(    ).  \u001b[0m \u001b[1m↗\u001b[0m \u001b[38;5;118m6\u001b[0m km/h\u001b[0m       \n",
      "  \u001b[38;5;240;1m (___.__)__) \u001b[0m\n"
     ]
    }
   ],
   "source": [
    "import sys\n",
    "import requests\n",
    "#resp = requests.get(f'https://wttr.in/{sys.argv[1].replace(\" \", \"+\")}')\n",
    "resp = requests.get(f'https://wttr.in/pitampura')\n",
    "#print(resp.text)\n",
    "print(resp.text[0:250])"
   ]
  },
  {
   "cell_type": "code",
   "execution_count": 3,
   "metadata": {},
   "outputs": [
    {
     "data": {
      "text/html": [
       "<div>\n",
       "<style scoped>\n",
       "    .dataframe tbody tr th:only-of-type {\n",
       "        vertical-align: middle;\n",
       "    }\n",
       "\n",
       "    .dataframe tbody tr th {\n",
       "        vertical-align: top;\n",
       "    }\n",
       "\n",
       "    .dataframe thead th {\n",
       "        text-align: right;\n",
       "    }\n",
       "</style>\n",
       "<table border=\"1\" class=\"dataframe\">\n",
       "  <thead>\n",
       "    <tr style=\"text-align: right;\">\n",
       "      <th></th>\n",
       "      <th>0</th>\n",
       "      <th>1</th>\n",
       "      <th>2</th>\n",
       "      <th>3</th>\n",
       "    </tr>\n",
       "  </thead>\n",
       "  <tbody>\n",
       "    <tr>\n",
       "      <th>0</th>\n",
       "      <td>never talk to me again</td>\n",
       "      <td>3</td>\n",
       "      <td>NaN</td>\n",
       "      <td>NaN</td>\n",
       "    </tr>\n",
       "    <tr>\n",
       "      <th>1</th>\n",
       "      <td>I am proud of your achievements</td>\n",
       "      <td>2</td>\n",
       "      <td>NaN</td>\n",
       "      <td>NaN</td>\n",
       "    </tr>\n",
       "    <tr>\n",
       "      <th>2</th>\n",
       "      <td>It is the worst day in my life</td>\n",
       "      <td>3</td>\n",
       "      <td>NaN</td>\n",
       "      <td>NaN</td>\n",
       "    </tr>\n",
       "    <tr>\n",
       "      <th>3</th>\n",
       "      <td>Miss you so much</td>\n",
       "      <td>0</td>\n",
       "      <td>NaN</td>\n",
       "      <td>[0]</td>\n",
       "    </tr>\n",
       "    <tr>\n",
       "      <th>4</th>\n",
       "      <td>food is life</td>\n",
       "      <td>4</td>\n",
       "      <td>NaN</td>\n",
       "      <td>NaN</td>\n",
       "    </tr>\n",
       "    <tr>\n",
       "      <th>5</th>\n",
       "      <td>I love you mum</td>\n",
       "      <td>0</td>\n",
       "      <td>NaN</td>\n",
       "      <td>NaN</td>\n",
       "    </tr>\n",
       "    <tr>\n",
       "      <th>6</th>\n",
       "      <td>Stop saying bullshit</td>\n",
       "      <td>3</td>\n",
       "      <td>NaN</td>\n",
       "      <td>NaN</td>\n",
       "    </tr>\n",
       "    <tr>\n",
       "      <th>7</th>\n",
       "      <td>congratulations on your acceptance</td>\n",
       "      <td>2</td>\n",
       "      <td>NaN</td>\n",
       "      <td>NaN</td>\n",
       "    </tr>\n",
       "    <tr>\n",
       "      <th>8</th>\n",
       "      <td>The assignment is too long</td>\n",
       "      <td>3</td>\n",
       "      <td>NaN</td>\n",
       "      <td>NaN</td>\n",
       "    </tr>\n",
       "    <tr>\n",
       "      <th>9</th>\n",
       "      <td>I want to go play</td>\n",
       "      <td>1</td>\n",
       "      <td>NaN</td>\n",
       "      <td>[3]</td>\n",
       "    </tr>\n",
       "  </tbody>\n",
       "</table>\n",
       "</div>"
      ],
      "text/plain": [
       "                                    0  1   2     3\n",
       "0              never talk to me again  3 NaN   NaN\n",
       "1     I am proud of your achievements  2 NaN   NaN\n",
       "2      It is the worst day in my life  3 NaN   NaN\n",
       "3                    Miss you so much  0 NaN   [0]\n",
       "4                        food is life  4 NaN   NaN\n",
       "5                      I love you mum  0 NaN   NaN\n",
       "6                Stop saying bullshit  3 NaN   NaN\n",
       "7  congratulations on your acceptance  2 NaN   NaN\n",
       "8         The assignment is too long   3 NaN   NaN\n",
       "9                   I want to go play  1 NaN   [3]"
      ]
     },
     "execution_count": 3,
     "metadata": {},
     "output_type": "execute_result"
    }
   ],
   "source": [
    "import emoji\n",
    "import pandas as pd\n",
    "\n",
    "data = pd.read_csv(\"train_emoji.csv\",header=None)\n",
    "\n",
    "data.head(n=10)"
   ]
  },
  {
   "cell_type": "code",
   "execution_count": 13,
   "metadata": {},
   "outputs": [
    {
     "data": {
      "text/plain": [
       "pandas.core.series.Series"
      ]
     },
     "execution_count": 13,
     "metadata": {},
     "output_type": "execute_result"
    }
   ],
   "source": [
    "X_train = data[0]\n",
    "Y_train = data[1]\n",
    "type(X_train)"
   ]
  },
  {
   "cell_type": "code",
   "execution_count": 6,
   "metadata": {},
   "outputs": [
    {
     "name": "stdout",
     "output_type": "stream",
     "text": [
      "I am proud of your achievements\n"
     ]
    }
   ],
   "source": [
    "print(X_train[1])"
   ]
  },
  {
   "cell_type": "code",
   "execution_count": 8,
   "metadata": {},
   "outputs": [],
   "source": [
    "emoji_dict = {\n",
    "    0:\":beating_heart:\",\n",
    "    1:\":baseball:\",\n",
    "    2:\":beaming_face_with_smiling_eyes:\",\n",
    "    3:\":disappointed_face:\",\n",
    "    4:\":fork_and_knife:\"    \n",
    "}"
   ]
  },
  {
   "cell_type": "code",
   "execution_count": 12,
   "metadata": {},
   "outputs": [],
   "source": [
    "import pyttsx3 as p\n",
    "p.speak(emoji.emojize(emoji_dict[Y_train[1]]))"
   ]
  },
  {
   "cell_type": "code",
   "execution_count": 22,
   "metadata": {
    "scrolled": true
   },
   "outputs": [
    {
     "name": "stdout",
     "output_type": "stream",
     "text": [
      " coronavirus-linked threat to children in IndiaChildren who have fully recovered from Covid in India are battling a rare and dangerous infection.8h8 hours agoIndiaRelated contentWill a deadlier third Covid wave hit India?Scientists say too early to tell risk of Delta plus variantWhat do we know about India's new vaccines?Related contentWill a deadlier third Covid wave hit India?Scientists say too early to tell risk of Delta plus \n"
     ]
    }
   ],
   "source": [
    "from urllib.request import urlopen\n",
    "from bs4 import BeautifulSoup\n",
    "import pyttsx3 as p\n",
    "url = \"https://www.bbc.com/news/world/asia/india\"\n",
    "html = urlopen(url).read()\n",
    "soup = BeautifulSoup(html, features=\"html.parser\")\n",
    "\n",
    "# kill all script and style elements\n",
    "for script in soup([\"script\", \"style\"]):\n",
    "    script.extract()    # rip it out\n",
    "\n",
    "# get text\n",
    "text = soup.get_text()\n",
    "\n",
    "# break into lines and remove leading and trailing space on each\n",
    "lines = (line.strip() for line in text.splitlines())\n",
    "# break multi-headlines into a line each\n",
    "chunks = (phrase.strip() for line in lines for phrase in line.split(\"  \"))\n",
    "# drop blank lines\n",
    "text = '\\n'.join(chunk for chunk in chunks if chunk)\n",
    "\n",
    "print(text[1066:1499])\n",
    "p.speak(text[1066:1499])"
   ]
  },
  {
   "cell_type": "code",
   "execution_count": null,
   "metadata": {},
   "outputs": [],
   "source": []
  }
 ],
 "metadata": {
  "kernelspec": {
   "display_name": "Python 3",
   "language": "python",
   "name": "python3"
  }
 },
 "nbformat": 4,
 "nbformat_minor": 4
}
